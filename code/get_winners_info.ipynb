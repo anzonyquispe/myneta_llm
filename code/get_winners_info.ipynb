{
 "cells": [
  {
   "cell_type": "code",
   "execution_count": 1,
   "metadata": {},
   "outputs": [],
   "source": [
    "from selenium import webdriver\n",
    "from selenium.webdriver.common.by import By\n",
    "from time import sleep\n",
    "import numpy as np\n",
    "from tqdm import tqdm\n",
    "import pandas as pd\n",
    "import os\n",
    "from io import StringIO"
   ]
  },
  {
   "cell_type": "code",
   "execution_count": 2,
   "metadata": {},
   "outputs": [],
   "source": [
    "data_folder = \"../data\"\n",
    "winners = pd.read_csv(os.path.join(data_folder, \"winners.csv\")).drop(columns=\"Unnamed: 0\")"
   ]
  },
  {
   "cell_type": "code",
   "execution_count": 3,
   "metadata": {},
   "outputs": [
    {
     "data": {
      "text/plain": [
       "1"
      ]
     },
     "execution_count": 3,
     "metadata": {},
     "output_type": "execute_result"
    }
   ],
   "source": [
    "len(os.listdir(data_folder))"
   ]
  },
  {
   "cell_type": "code",
   "execution_count": 4,
   "metadata": {},
   "outputs": [
    {
     "name": "stderr",
     "output_type": "stream",
     "text": [
      "2551it [58:54,  1.49s/it]"
     ]
    },
    {
     "name": "stdout",
     "output_type": "stream",
     "text": [
      "list index out of range\n"
     ]
    },
    {
     "name": "stderr",
     "output_type": "stream",
     "text": [
      "4084it [1:32:40,  1.36s/it]\n"
     ]
    }
   ],
   "source": [
    "driver = webdriver.Firefox()\n",
    "driver.maximize_window()\n",
    "errors = \"\"\n",
    "\n",
    "for idx, row in tqdm(winners.iterrows()):\n",
    "        try:\n",
    "                winner_folder = os.path.join(data_folder, row[\"unique_id\"])\n",
    "                os.mkdir(winner_folder)\n",
    "                driver.get(row[\"link\"])\n",
    "\n",
    "                # Make table with description\n",
    "                info = {}\n",
    "                header = driver.find_element(By.CLASS_NAME, \"w3-half\").text.split(\"\\n\")\n",
    "                details = driver.find_elements(By.CLASS_NAME, \"w3-third\")[1:4]\n",
    "                assets_liabilities = details[1].text.split(\"\\n\")\n",
    "                info.update({\"constituency\": [header[1]]})\n",
    "                info.update({\n",
    "                        \"party\": [header[2].split(\":\")[-1].strip()],\n",
    "                        \"so_do_wo\": [header[3].split(\":\")[-1].strip()],\n",
    "                        \"age\": [header[4].split(\":\")[-1].strip()],\n",
    "                        \"voter_in\": [header[5].split(\":\")[-1].strip()],\n",
    "                        \"profession\": [header[6].split(\":\")[-1].strip()],\n",
    "                        \"spouse_profession\": [header[7].split(\":\")[-1].strip()],\n",
    "                        \"n_crime_cases\": [details[0].text.split(\":\")[-1].strip().replace(\"\\n\", \" \")],\n",
    "                        \"assets\": [assets_liabilities[1].split(\":\")[-1].strip()],\n",
    "                        \"liabilities\": [assets_liabilities[2].split(\":\")[-1].strip()]\n",
    "                })\n",
    "                pd.DataFrame(info).to_csv(os.path.join(winner_folder, \"info.csv\"))\n",
    "                pd.read_html(StringIO(driver.find_element(By.ID, \"income_tax\").get_attribute(\"outerHTML\")))[0].to_csv(os.path.join(winner_folder, \"tax_returns.csv\"))\n",
    "                pd.read_html(StringIO(driver.find_element(By.ID, \"movable_assets\").get_attribute(\"outerHTML\")))[0].to_csv(os.path.join(winner_folder, \"movable_assets.csv\"))\n",
    "                pd.read_html(StringIO(driver.find_element(By.ID, \"immovable_assets\").get_attribute(\"outerHTML\")))[0].to_csv(os.path.join(winner_folder, \"immovable_assets.csv\"))\n",
    "                pd.read_html(StringIO(driver.find_element(By.ID, \"liabilities\").get_attribute(\"outerHTML\")))[0].to_csv(os.path.join(winner_folder, \"liabilities.csv\"))\n",
    "        except IndexError as e:\n",
    "                print(e)\n",
    "                errors += row[\"unique_id\"]"
   ]
  },
  {
   "cell_type": "code",
   "execution_count": 7,
   "metadata": {},
   "outputs": [],
   "source": [
    "with open(os.path.join(data_folder, \"errors.txt\"), \"w\") as f:\n",
    "        f.write(errors + \"\\n\")"
   ]
  },
  {
   "cell_type": "code",
   "execution_count": 5,
   "metadata": {},
   "outputs": [
    {
     "data": {
      "text/plain": [
       "'Puducherry2021_14'"
      ]
     },
     "execution_count": 5,
     "metadata": {},
     "output_type": "execute_result"
    }
   ],
   "source": [
    "errors"
   ]
  }
 ],
 "metadata": {
  "kernelspec": {
   "display_name": "myneta_scraper",
   "language": "python",
   "name": "python3"
  },
  "language_info": {
   "codemirror_mode": {
    "name": "ipython",
    "version": 3
   },
   "file_extension": ".py",
   "mimetype": "text/x-python",
   "name": "python",
   "nbconvert_exporter": "python",
   "pygments_lexer": "ipython3",
   "version": "3.11.11"
  }
 },
 "nbformat": 4,
 "nbformat_minor": 2
}
