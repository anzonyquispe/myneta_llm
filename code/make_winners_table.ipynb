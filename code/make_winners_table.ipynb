{
 "cells": [
  {
   "cell_type": "code",
   "execution_count": 1,
   "metadata": {},
   "outputs": [],
   "source": [
    "from selenium import webdriver\n",
    "from selenium.webdriver.common.by import By\n",
    "from time import sleep\n",
    "import numpy as np\n",
    "from tqdm import tqdm"
   ]
  },
  {
   "cell_type": "code",
   "execution_count": 2,
   "metadata": {},
   "outputs": [],
   "source": [
    "driver = webdriver.Firefox()\n",
    "url = \"https://myneta.info/\"\n",
    "driver.get(url)\n",
    "driver.maximize_window()"
   ]
  },
  {
   "cell_type": "code",
   "execution_count": 3,
   "metadata": {},
   "outputs": [],
   "source": [
    "state_assemblies = driver.find_elements(By.CLASS_NAME, \"w3-card\")[7]"
   ]
  },
  {
   "cell_type": "code",
   "execution_count": 4,
   "metadata": {},
   "outputs": [],
   "source": [
    "assembly_links = state_assemblies.find_elements(By.CLASS_NAME, \"w3-button\")"
   ]
  },
  {
   "cell_type": "code",
   "execution_count": 5,
   "metadata": {},
   "outputs": [],
   "source": [
    "assembly_links = [link.get_attribute(\"href\") for link in assembly_links]"
   ]
  },
  {
   "cell_type": "code",
   "execution_count": 6,
   "metadata": {},
   "outputs": [
    {
     "name": "stderr",
     "output_type": "stream",
     "text": [
      "100%|██████████| 31/31 [03:21<00:00,  6.50s/it]\n"
     ]
    }
   ],
   "source": [
    "\n",
    "winners_links = []\n",
    "\n",
    "for link in tqdm(assembly_links):\n",
    "        driver.get(link)\n",
    "        sleep(1)\n",
    "        latest_election = driver.find_element(By.CLASS_NAME, \"w3-ul\")\n",
    "        latest_election.find_element(By.CLASS_NAME, \"w3-block\").click()\n",
    "        sleep(1)\n",
    "        winners_table = driver.find_element(By.CLASS_NAME, \"w3-responsive\").find_element(By.CLASS_NAME, \"w3-table\")\n",
    "        winners_rows = winners_table.find_elements(By.TAG_NAME, \"tr\")[1:]\n",
    "        links = [[row.find_elements(By.TAG_NAME, \"a\")[1].text, row.find_elements(By.TAG_NAME, \"a\")[1].get_attribute(\"href\")] for row in winners_rows]\n",
    "        winners_links += links"
   ]
  },
  {
   "cell_type": "code",
   "execution_count": 9,
   "metadata": {},
   "outputs": [],
   "source": [
    "winners_links = np.array(winners_links)"
   ]
  },
  {
   "cell_type": "code",
   "execution_count": 23,
   "metadata": {},
   "outputs": [],
   "source": [
    "import pandas as pd\n",
    "\n",
    "def get_stateyear(string):\n",
    "        return string.split(\"/\")[-2]\n",
    "\n",
    "def get_id(string):\n",
    "        return string.split(\"=\")[-1]\n",
    "\n",
    "winners = pd.DataFrame(winners_links, columns=[\"name\", \"link\"])\n",
    "winners[\"state_year\"] = winners[\"link\"].apply(get_stateyear)\n",
    "winners[\"unique_id\"] = winners[\"state_year\"] + \"_\" + winners[\"link\"].apply(get_id)"
   ]
  },
  {
   "cell_type": "code",
   "execution_count": 25,
   "metadata": {},
   "outputs": [],
   "source": [
    "winners.to_csv(\"../data/winners.csv\")"
   ]
  }
 ],
 "metadata": {
  "kernelspec": {
   "display_name": "myneta_scraper",
   "language": "python",
   "name": "python3"
  },
  "language_info": {
   "codemirror_mode": {
    "name": "ipython",
    "version": 3
   },
   "file_extension": ".py",
   "mimetype": "text/x-python",
   "name": "python",
   "nbconvert_exporter": "python",
   "pygments_lexer": "ipython3",
   "version": "3.11.11"
  }
 },
 "nbformat": 4,
 "nbformat_minor": 2
}
