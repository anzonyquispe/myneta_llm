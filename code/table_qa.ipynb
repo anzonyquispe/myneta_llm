{
 "cells": [
  {
   "cell_type": "code",
   "execution_count": 4,
   "metadata": {},
   "outputs": [],
   "source": [
    "import openai\n",
    "import os\n",
    "from dotenv import load_dotenv, find_dotenv\n",
    "\n",
    "_ = load_dotenv(find_dotenv())\n",
    "openai.api_key = os.environ[\"OPENAI_API_KEY\"]"
   ]
  },
  {
   "cell_type": "code",
   "execution_count": 21,
   "metadata": {},
   "outputs": [],
   "source": [
    "ANALYSIS_PROMPT = \"You are a research assistant interested in political capture in India. Right now, you are researching whether \\\n",
    "politicians with agricultural assets are more prone to taking actions that favor agricultural businesses. Your first task is to assess whether \\\n",
    "a politician owns agricultural assets. To do this, you will be given a table that summarizes their own immovable assets, as well as those owned by \\\n",
    "their spouse and dependents. Summarize this information by mentioning who owns assets and their valuation\"\n",
    "\n",
    "USER_TEMPLATE = \"Name: {name}\\nElectionYear: {election_year}\\nImmovable Assets: {assets}\""
   ]
  },
  {
   "cell_type": "code",
   "execution_count": 22,
   "metadata": {},
   "outputs": [],
   "source": [
    "import pandas as pd"
   ]
  },
  {
   "cell_type": "code",
   "execution_count": 23,
   "metadata": {},
   "outputs": [],
   "source": [
    "winners_details_folder = \"../data/winner_details\"\n",
    "winners = pd.read_csv(\"../data/winners.csv\")"
   ]
  },
  {
   "cell_type": "code",
   "execution_count": 24,
   "metadata": {},
   "outputs": [],
   "source": [
    "win_sample = winners.sample(1)\n",
    "name = win_sample[\"name\"].values[0]\n",
    "unique_id = win_sample[\"unique_id\"].values[0]\n",
    "election_year = unique_id.split(\"_\")[0]\n",
    "immov_assets = pd.read_csv(\n",
    "        os.path.join(winners_details_folder, unique_id, \"immovable_assets.csv\")\n",
    ").to_string()\n",
    "\n",
    "messages = [\n",
    "        {\"role\": \"system\", \"content\": ANALYSIS_PROMPT},\n",
    "        {\"role\": \"user\", \"content\": USER_TEMPLATE.format(\n",
    "                name=name,\n",
    "                election_year=election_year,\n",
    "                assets=immov_assets\n",
    "        )}\n",
    "]\n",
    "response = openai.chat.completions.create(\n",
    "        messages=messages,\n",
    "        model=\"gpt-4o-mini\"\n",
    ")"
   ]
  },
  {
   "cell_type": "code",
   "execution_count": 25,
   "metadata": {},
   "outputs": [
    {
     "data": {
      "text/plain": [
       "'Shalley Chaudhary, a politician from Haryana, has declared ownership of various immovable agricultural assets as part of her affidavit for the 2024 elections. The following summarizes the ownership and valuation of these assets:\\n\\n### Summary of Immovable Assets\\n\\n**Self-Owned Assets**\\n1. **Agricultural Land**:\\n   - **Location**: Villages Bhupani and Atmadpur, Faridabad\\n   - **Total Area**: 5 acres in Bhupani, 6 Karnal in Atmadpur\\n   - **Purchase Dates**: Various, with the earliest being June 8, 1995.\\n   - **Total Valuation**: ₹15,50,00,000 (15 Crore+)\\n\\n**Spouse-Owned Assets**\\n1. **Agricultural Land**:\\n   - Various parcels in Ambala and Mohali with a shared interest.\\n   - Total Valuation: ₹12,50,00,000 (12 Crore+)\\n2. **Non-Agricultural Land**: \\n   - Locations in Faridabad.\\n   - Total Valuation: ₹28,00,00,000 (28 Crore+)\\n\\n**Dependents**: No immovable assets reported.\\n\\n### Total Current Market Value\\n- **Self**: ₹37,50,00,000 (37 Crore+)\\n- **Spouse**: ₹32,50,00,000 (32 Crore+)\\n- **Dependents**: No assets.\\n\\nThe total combined market valuation of all assets owned by Shalley Chaudhary and her spouse is ₹70,00,00,000 (70 Crore+). Notably, both individuals own significant agricultural land, suggesting that they might be biased towards supporting agricultural interests in their political actions.'"
      ]
     },
     "execution_count": 25,
     "metadata": {},
     "output_type": "execute_result"
    }
   ],
   "source": [
    "response.choices[0].message.content"
   ]
  },
  {
   "cell_type": "code",
   "execution_count": null,
   "metadata": {},
   "outputs": [
    {
     "data": {
      "text/html": [
       "<div>\n",
       "<style scoped>\n",
       "    .dataframe tbody tr th:only-of-type {\n",
       "        vertical-align: middle;\n",
       "    }\n",
       "\n",
       "    .dataframe tbody tr th {\n",
       "        vertical-align: top;\n",
       "    }\n",
       "\n",
       "    .dataframe thead th {\n",
       "        text-align: right;\n",
       "    }\n",
       "</style>\n",
       "<table border=\"1\" class=\"dataframe\">\n",
       "  <thead>\n",
       "    <tr style=\"text-align: right;\">\n",
       "      <th></th>\n",
       "      <th>Unnamed: 0</th>\n",
       "      <th>name</th>\n",
       "      <th>link</th>\n",
       "      <th>state_year</th>\n",
       "      <th>unique_id</th>\n",
       "    </tr>\n",
       "  </thead>\n",
       "  <tbody>\n",
       "    <tr>\n",
       "      <th>3488</th>\n",
       "      <td>3488</td>\n",
       "      <td>Rajesh Tripathi</td>\n",
       "      <td>https://myneta.info/uttarpradesh2022/candidate...</td>\n",
       "      <td>uttarpradesh2022</td>\n",
       "      <td>uttarpradesh2022_3825</td>\n",
       "    </tr>\n",
       "  </tbody>\n",
       "</table>\n",
       "</div>"
      ],
      "text/plain": [
       "      Unnamed: 0             name  \\\n",
       "3488        3488  Rajesh Tripathi   \n",
       "\n",
       "                                                   link        state_year  \\\n",
       "3488  https://myneta.info/uttarpradesh2022/candidate...  uttarpradesh2022   \n",
       "\n",
       "                  unique_id  \n",
       "3488  uttarpradesh2022_3825  "
      ]
     },
     "execution_count": 8,
     "metadata": {},
     "output_type": "execute_result"
    }
   ],
   "source": [
    "def get_llm_response_from_row(row):\n",
    "        name = row[\"name\"].values[0]\n",
    "        unique_id = row[\"unique_id\"].values[0]\n",
    "        immov_assets = pd.read_csv(\n",
    "                os.path.join(winners_details_folder, unique_id, \"immovable_assets.csv\")\n",
    "        )\n",
    "        "
   ]
  },
  {
   "cell_type": "code",
   "execution_count": null,
   "metadata": {},
   "outputs": [],
   "source": [
    "openai.chat.completions.create()"
   ]
  }
 ],
 "metadata": {
  "kernelspec": {
   "display_name": "myneta_scraper",
   "language": "python",
   "name": "python3"
  },
  "language_info": {
   "codemirror_mode": {
    "name": "ipython",
    "version": 3
   },
   "file_extension": ".py",
   "mimetype": "text/x-python",
   "name": "python",
   "nbconvert_exporter": "python",
   "pygments_lexer": "ipython3",
   "version": "3.11.11"
  }
 },
 "nbformat": 4,
 "nbformat_minor": 2
}
