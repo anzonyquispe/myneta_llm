{
 "cells": [
  {
   "cell_type": "code",
   "execution_count": 2,
   "metadata": {},
   "outputs": [],
   "source": [
    "from selenium import webdriver\n",
    "from selenium.webdriver.common.by import By"
   ]
  },
  {
   "cell_type": "code",
   "execution_count": 55,
   "metadata": {},
   "outputs": [],
   "source": [
    "driver = webdriver.Firefox()\n",
    "url = \"https://myneta.info/\"\n",
    "driver.get(url)"
   ]
  },
  {
   "cell_type": "code",
   "execution_count": 56,
   "metadata": {},
   "outputs": [],
   "source": [
    "state_assemblies = driver.find_elements(By.CLASS_NAME, \"w3-card\")[7]"
   ]
  },
  {
   "cell_type": "code",
   "execution_count": 57,
   "metadata": {},
   "outputs": [],
   "source": [
    "assembly_links = state_assemblies.find_elements(By.CLASS_NAME, \"w3-button\")"
   ]
  },
  {
   "cell_type": "code",
   "execution_count": 59,
   "metadata": {},
   "outputs": [],
   "source": [
    "assembly_links = [link.get_attribute(\"href\") for link in assembly_links]"
   ]
  },
  {
   "cell_type": "code",
   "execution_count": null,
   "metadata": {},
   "outputs": [],
   "source": [
    "from time import sleep"
   ]
  },
  {
   "cell_type": "code",
   "execution_count": null,
   "metadata": {},
   "outputs": [],
   "source": [
    "for link in assembly_links:\n",
    "        driver.get(link)\n",
    "        sleep(5)\n",
    "        latest_election = driver.find_element(By.CLASS_NAME, \"w3-ul\")\n",
    "        latest_election.find_element(By.CLASS_NAME, \"w3-block\").click()\n",
    "        sleep(5)\n",
    "        winners_table = driver.find_element(By.CLASS_NAME, \"w3-responsive\").find_element(By.CLASS_NAME, \"w3-table\")\n",
    "        winners_rows = winners_table.find_elements(By.TAG_NAME, \"tr\")[1:]\n",
    "        links = [[row.find_elements(By.TAG_NAME, \"a\")[1].text, row.find_elements(By.TAG_NAME, \"a\")[1].get_attribute(\"href\")] for row in winners_rows]"
   ]
  },
  {
   "cell_type": "code",
   "execution_count": 23,
   "metadata": {},
   "outputs": [
    {
     "data": {
      "text/plain": [
       "'https://myneta.info/state_assembly.php?state=Andhra%20Pradesh'"
      ]
     },
     "execution_count": 23,
     "metadata": {},
     "output_type": "execute_result"
    }
   ],
   "source": [
    "assembly_links[0].get_attribute(\"href\")"
   ]
  },
  {
   "cell_type": "code",
   "execution_count": 24,
   "metadata": {},
   "outputs": [],
   "source": [
    "assembly_links[0].click()"
   ]
  },
  {
   "cell_type": "code",
   "execution_count": 26,
   "metadata": {},
   "outputs": [],
   "source": [
    "latest_election = driver.find_element(By.CLASS_NAME, \"w3-ul\")"
   ]
  },
  {
   "cell_type": "code",
   "execution_count": null,
   "metadata": {},
   "outputs": [],
   "source": [
    "winners_link = latest_election.find_element(By.CLASS_NAME, \"w3-block\")"
   ]
  },
  {
   "cell_type": "code",
   "execution_count": null,
   "metadata": {},
   "outputs": [],
   "source": [
    "winners_link.click()"
   ]
  },
  {
   "cell_type": "code",
   "execution_count": 31,
   "metadata": {},
   "outputs": [],
   "source": [
    "winners_table = driver.find_element(By.CLASS_NAME, \"w3-responsive\").find_element(By.CLASS_NAME, \"w3-table\")"
   ]
  },
  {
   "cell_type": "code",
   "execution_count": 39,
   "metadata": {},
   "outputs": [],
   "source": [
    "winners_rows = winners_table.find_elements(By.TAG_NAME, \"tr\")[1:]"
   ]
  },
  {
   "cell_type": "code",
   "execution_count": 40,
   "metadata": {},
   "outputs": [
    {
     "data": {
      "text/plain": [
       "174"
      ]
     },
     "execution_count": 40,
     "metadata": {},
     "output_type": "execute_result"
    }
   ],
   "source": [
    "len(winners_rows)"
   ]
  },
  {
   "cell_type": "code",
   "execution_count": 48,
   "metadata": {},
   "outputs": [],
   "source": [
    "links = [[row.find_elements(By.TAG_NAME, \"a\")[1].text, row.find_elements(By.TAG_NAME, \"a\")[1].get_attribute(\"href\")] for row in winners_rows]"
   ]
  },
  {
   "cell_type": "code",
   "execution_count": 50,
   "metadata": {},
   "outputs": [],
   "source": [
    "import numpy as np"
   ]
  },
  {
   "cell_type": "code",
   "execution_count": 53,
   "metadata": {},
   "outputs": [
    {
     "data": {
      "text/plain": [
       "(174, 2)"
      ]
     },
     "execution_count": 53,
     "metadata": {},
     "output_type": "execute_result"
    }
   ],
   "source": [
    "np.array(links).shape"
   ]
  },
  {
   "cell_type": "code",
   "execution_count": 54,
   "metadata": {},
   "outputs": [
    {
     "data": {
      "text/plain": [
       "[['Satyanarayana Pithani',\n",
       "  'https://myneta.info/AndhraPradesh2024/candidate.php?candidate_id=89'],\n",
       " ['Gottipati Ravi Kumar',\n",
       "  'https://myneta.info/AndhraPradesh2024/candidate.php?candidate_id=91'],\n",
       " ['Dr. Partha Sarathi Valmiki',\n",
       "  'https://myneta.info/AndhraPradesh2024/candidate.php?candidate_id=83'],\n",
       " ['Akhila Priya Bhuma',\n",
       "  'https://myneta.info/AndhraPradesh2024/candidate.php?candidate_id=167'],\n",
       " ['B. Virupakshi',\n",
       "  'https://myneta.info/AndhraPradesh2024/candidate.php?candidate_id=70'],\n",
       " ['Koona Ravi Kumar',\n",
       "  'https://myneta.info/AndhraPradesh2024/candidate.php?candidate_id=86'],\n",
       " ['Aithabathula Anandarao',\n",
       "  'https://myneta.info/AndhraPradesh2024/candidate.php?candidate_id=54'],\n",
       " ['Konathala Ramakrishna',\n",
       "  'https://myneta.info/AndhraPradesh2024/candidate.php?candidate_id=391'],\n",
       " ['Daggupati Venkateswara Prasad',\n",
       "  'https://myneta.info/AndhraPradesh2024/candidate.php?candidate_id=184'],\n",
       " ['Ramakrishna Reddy Nallamilli',\n",
       "  'https://myneta.info/AndhraPradesh2024/candidate.php?candidate_id=2332'],\n",
       " ['Regam Matyalingam',\n",
       "  'https://myneta.info/AndhraPradesh2024/candidate.php?candidate_id=171'],\n",
       " ['Anam Ramanarayana Reddy',\n",
       "  'https://myneta.info/AndhraPradesh2024/candidate.php?candidate_id=172'],\n",
       " ['Buddhaprasad Mandali',\n",
       "  'https://myneta.info/AndhraPradesh2024/candidate.php?candidate_id=2662'],\n",
       " ['Dasari Sudha',\n",
       "  'https://myneta.info/AndhraPradesh2024/candidate.php?candidate_id=187'],\n",
       " ['Bobbala Chinnolla Janardhan Reddy',\n",
       "  'https://myneta.info/AndhraPradesh2024/candidate.php?candidate_id=158'],\n",
       " ['Narendra Varma Raju Vegesana',\n",
       "  'https://myneta.info/AndhraPradesh2024/candidate.php?candidate_id=59'],\n",
       " ['Ramanjaneyulu Pulaparthi (Anjibabu)',\n",
       "  'https://myneta.info/AndhraPradesh2024/candidate.php?candidate_id=2098'],\n",
       " ['Ganta Srinivasa Rao',\n",
       "  'https://myneta.info/AndhraPradesh2024/candidate.php?candidate_id=29'],\n",
       " ['R.V.S.K.K.Ranga Rao @ Babynayana',\n",
       "  'https://myneta.info/AndhraPradesh2024/candidate.php?candidate_id=192'],\n",
       " ['Venkata Mani Prasad Pullivarthi',\n",
       "  'https://myneta.info/AndhraPradesh2024/candidate.php?candidate_id=94'],\n",
       " ['Kalavenkatarao Kimidi',\n",
       "  'https://myneta.info/AndhraPradesh2024/candidate.php?candidate_id=1089'],\n",
       " ['Prathipati Pullarao',\n",
       "  'https://myneta.info/AndhraPradesh2024/candidate.php?candidate_id=312'],\n",
       " ['Roshan Kumar Songa',\n",
       "  'https://myneta.info/AndhraPradesh2024/candidate.php?candidate_id=194'],\n",
       " ['Madduluri Mala Kondaiah',\n",
       "  'https://myneta.info/AndhraPradesh2024/candidate.php?candidate_id=197'],\n",
       " ['Gurajala Jagan Mohan (Gjm)',\n",
       "  'https://myneta.info/AndhraPradesh2024/candidate.php?candidate_id=34'],\n",
       " ['Surya Naga Sanyasi Raju Kalidindi',\n",
       "  'https://myneta.info/AndhraPradesh2024/candidate.php?candidate_id=200'],\n",
       " ['Buchepalli Siva Prasad Reddy',\n",
       "  'https://myneta.info/AndhraPradesh2024/candidate.php?candidate_id=4'],\n",
       " ['Chintamaneni Prabhakar',\n",
       "  'https://myneta.info/AndhraPradesh2024/candidate.php?candidate_id=201'],\n",
       " ['Satya Kumar Yadav',\n",
       "  'https://myneta.info/AndhraPradesh2024/candidate.php?candidate_id=315'],\n",
       " ['Kotla Jaya Surya Prakash Reddy',\n",
       "  'https://myneta.info/AndhraPradesh2024/candidate.php?candidate_id=159'],\n",
       " ['Radha Krishnayya Badeti',\n",
       "  'https://myneta.info/AndhraPradesh2024/candidate.php?candidate_id=316'],\n",
       " ['Eswara Rao Nadukuditi',\n",
       "  'https://myneta.info/AndhraPradesh2024/candidate.php?candidate_id=1033'],\n",
       " ['Kondapalli Srinivas',\n",
       "  'https://myneta.info/AndhraPradesh2024/candidate.php?candidate_id=97'],\n",
       " ['Palla Srinivas Rao',\n",
       "  'https://myneta.info/AndhraPradesh2024/candidate.php?candidate_id=454'],\n",
       " ['Vadingadu Munaswamy Thomas',\n",
       "  'https://myneta.info/AndhraPradesh2024/candidate.php?candidate_id=318'],\n",
       " ['Yarlagadda Venkata Rao',\n",
       "  'https://myneta.info/AndhraPradesh2024/candidate.php?candidate_id=39'],\n",
       " ['Giddi. Satyanarayana S/O Mahalakshmi',\n",
       "  'https://myneta.info/AndhraPradesh2024/candidate.php?candidate_id=2661'],\n",
       " ['Ashok Reddy Muthumula',\n",
       "  'https://myneta.info/AndhraPradesh2024/candidate.php?candidate_id=157'],\n",
       " ['Maddipati Venkata Raju',\n",
       "  'https://myneta.info/AndhraPradesh2024/candidate.php?candidate_id=41'],\n",
       " ['Venigandla Ramu',\n",
       "  'https://myneta.info/AndhraPradesh2024/candidate.php?candidate_id=204'],\n",
       " ['Pasim Sunil Kumar',\n",
       "  'https://myneta.info/AndhraPradesh2024/candidate.php?candidate_id=236'],\n",
       " ['Jayaram Gummanur',\n",
       "  'https://myneta.info/AndhraPradesh2024/candidate.php?candidate_id=309'],\n",
       " ['Mohammed Naseer Ahmed',\n",
       "  'https://myneta.info/AndhraPradesh2024/candidate.php?candidate_id=287'],\n",
       " ['Galla Madhavi',\n",
       "  'https://myneta.info/AndhraPradesh2024/candidate.php?candidate_id=101'],\n",
       " ['Yarapathineni Srinivasa Rao',\n",
       "  'https://myneta.info/AndhraPradesh2024/candidate.php?candidate_id=62'],\n",
       " ['Nandamuri Balakrishna',\n",
       "  'https://myneta.info/AndhraPradesh2024/candidate.php?candidate_id=71'],\n",
       " ['Ashok Bendalam',\n",
       "  'https://myneta.info/AndhraPradesh2024/candidate.php?candidate_id=2372'],\n",
       " ['Jyothula Nehru',\n",
       "  'https://myneta.info/AndhraPradesh2024/candidate.php?candidate_id=102'],\n",
       " ['Rajagopal Sreeram (Tataiah)',\n",
       "  'https://myneta.info/AndhraPradesh2024/candidate.php?candidate_id=45'],\n",
       " ['Adinarayana Reddy Chadipirala',\n",
       "  'https://myneta.info/AndhraPradesh2024/candidate.php?candidate_id=2'],\n",
       " ['Madhavi Reddappa Gari',\n",
       "  'https://myneta.info/AndhraPradesh2024/candidate.php?candidate_id=457'],\n",
       " ['Kandikunta Venkata Prasad',\n",
       "  'https://myneta.info/AndhraPradesh2024/candidate.php?candidate_id=125'],\n",
       " ['Kamineni Srinivas',\n",
       "  'https://myneta.info/AndhraPradesh2024/candidate.php?candidate_id=323'],\n",
       " ['Anamadi Venkateswara Rao @ Kondababu',\n",
       "  'https://myneta.info/AndhraPradesh2024/candidate.php?candidate_id=57'],\n",
       " ['Pantam Venkateswara Rao (Pantam Nanaji)',\n",
       "  'https://myneta.info/AndhraPradesh2024/candidate.php?candidate_id=271'],\n",
       " ['Amilineni Surendra Babu',\n",
       "  'https://myneta.info/AndhraPradesh2024/candidate.php?candidate_id=103'],\n",
       " ['Krishna Chaitanya Reddy Putha',\n",
       "  'https://myneta.info/AndhraPradesh2024/candidate.php?candidate_id=325'],\n",
       " ['Inturi Nageswara Rao',\n",
       "  'https://myneta.info/AndhraPradesh2024/candidate.php?candidate_id=367'],\n",
       " ['Dr.Ugra Narasimha Reddy Mukku',\n",
       "  'https://myneta.info/AndhraPradesh2024/candidate.php?candidate_id=326'],\n",
       " ['Dagumati Venkata Krishna Reddy',\n",
       "  'https://myneta.info/AndhraPradesh2024/candidate.php?candidate_id=327'],\n",
       " ['Boggula Dastagiri',\n",
       "  'https://myneta.info/AndhraPradesh2024/candidate.php?candidate_id=31'],\n",
       " ['Arava Sreedhar',\n",
       "  'https://myneta.info/AndhraPradesh2024/candidate.php?candidate_id=1358'],\n",
       " ['Doctor Dola Sree Bala Veeranjaneya Swamy',\n",
       "  'https://myneta.info/AndhraPradesh2024/candidate.php?candidate_id=328'],\n",
       " ['Bandaru Satyananda Rao',\n",
       "  'https://myneta.info/AndhraPradesh2024/candidate.php?candidate_id=460'],\n",
       " ['Prashanthi Reddy Vemireddy',\n",
       "  'https://myneta.info/AndhraPradesh2024/candidate.php?candidate_id=3'],\n",
       " ['Muppidi Venkateswara Rao',\n",
       "  'https://myneta.info/AndhraPradesh2024/candidate.php?candidate_id=330'],\n",
       " ['Chandrababu Naidu Nara',\n",
       "  'https://myneta.info/AndhraPradesh2024/candidate.php?candidate_id=108'],\n",
       " ['T.G. Bharath',\n",
       "  'https://myneta.info/AndhraPradesh2024/candidate.php?candidate_id=357'],\n",
       " ['Jagadeeswari Thoyaka',\n",
       "  'https://myneta.info/AndhraPradesh2024/candidate.php?candidate_id=334'],\n",
       " ['Brahmanandareddy Julakanti',\n",
       "  'https://myneta.info/AndhraPradesh2024/candidate.php?candidate_id=32'],\n",
       " ['Kollu Ravindra',\n",
       "  'https://myneta.info/AndhraPradesh2024/candidate.php?candidate_id=461'],\n",
       " ['M.S.Raju',\n",
       "  'https://myneta.info/AndhraPradesh2024/candidate.php?candidate_id=1833'],\n",
       " ['M.Shajahan Basha',\n",
       "  'https://myneta.info/AndhraPradesh2024/candidate.php?candidate_id=23'],\n",
       " ['Bandaru Satyanarayana Murthy',\n",
       "  'https://myneta.info/AndhraPradesh2024/candidate.php?candidate_id=2677'],\n",
       " ['Jogeswara Rao.V',\n",
       "  'https://myneta.info/AndhraPradesh2024/candidate.php?candidate_id=261'],\n",
       " ['Nara Lokesh',\n",
       "  'https://myneta.info/AndhraPradesh2024/candidate.php?candidate_id=47'],\n",
       " ['Y. Balanagi Reddy',\n",
       "  'https://myneta.info/AndhraPradesh2024/candidate.php?candidate_id=175'],\n",
       " ['Kandula Narayana Reddy',\n",
       "  'https://myneta.info/AndhraPradesh2024/candidate.php?candidate_id=2647'],\n",
       " ['Datla Subba Raju (Buchibabu)',\n",
       "  'https://myneta.info/AndhraPradesh2024/candidate.php?candidate_id=431'],\n",
       " ['Sudhakar Putta',\n",
       "  'https://myneta.info/AndhraPradesh2024/candidate.php?candidate_id=340'],\n",
       " ['Vasantha Venkata Krishna Prasad',\n",
       "  'https://myneta.info/AndhraPradesh2024/candidate.php?candidate_id=344'],\n",
       " ['G. Bhanu Prakash',\n",
       "  'https://myneta.info/AndhraPradesh2024/candidate.php?candidate_id=121'],\n",
       " ['Tangirala Sowmya',\n",
       "  'https://myneta.info/AndhraPradesh2024/candidate.php?candidate_id=343'],\n",
       " ['G Jayasurya',\n",
       "  'https://myneta.info/AndhraPradesh2024/candidate.php?candidate_id=358'],\n",
       " ['Nasyam Mohammed Farook',\n",
       "  'https://myneta.info/AndhraPradesh2024/candidate.php?candidate_id=129'],\n",
       " ['Baggu Ramanamurthy',\n",
       "  'https://myneta.info/AndhraPradesh2024/candidate.php?candidate_id=153'],\n",
       " ['Bommidi Narayana Nayakar',\n",
       "  'https://myneta.info/AndhraPradesh2024/candidate.php?candidate_id=408'],\n",
       " ['Aravinda Babu Chadalavada',\n",
       "  'https://myneta.info/AndhraPradesh2024/candidate.php?candidate_id=46'],\n",
       " ['Ayyannapatrudu Chintakayala',\n",
       "  'https://myneta.info/AndhraPradesh2024/candidate.php?candidate_id=67'],\n",
       " ['Lokam Naga Madhavi',\n",
       "  'https://myneta.info/AndhraPradesh2024/candidate.php?candidate_id=398'],\n",
       " ['Narayana Ponguru',\n",
       "  'https://myneta.info/AndhraPradesh2024/candidate.php?candidate_id=240'],\n",
       " ['Kotamreddy Sridhar Reddy',\n",
       "  'https://myneta.info/AndhraPradesh2024/candidate.php?candidate_id=11'],\n",
       " ['Kandula Durgesh',\n",
       "  'https://myneta.info/AndhraPradesh2024/candidate.php?candidate_id=405'],\n",
       " ['Kolusu Partha Sarathy',\n",
       "  'https://myneta.info/AndhraPradesh2024/candidate.php?candidate_id=355'],\n",
       " ['Damacharla Janardhana Rao',\n",
       "  'https://myneta.info/AndhraPradesh2024/candidate.php?candidate_id=369'],\n",
       " ['Matsyarasa Visweswara Raju',\n",
       "  'https://myneta.info/AndhraPradesh2024/candidate.php?candidate_id=142'],\n",
       " ['Dr.Nimmala Ramanaidu',\n",
       "  'https://myneta.info/AndhraPradesh2024/candidate.php?candidate_id=406'],\n",
       " ['Jayakrishna Nimmaka',\n",
       "  'https://myneta.info/AndhraPradesh2024/candidate.php?candidate_id=1059'],\n",
       " ['Amaranatha Reddy. N',\n",
       "  'https://myneta.info/AndhraPradesh2024/candidate.php?candidate_id=120'],\n",
       " ['Gouthu Sireesha',\n",
       "  'https://myneta.info/AndhraPradesh2024/candidate.php?candidate_id=130'],\n",
       " ['Kumar Raja Varla',\n",
       "  'https://myneta.info/AndhraPradesh2024/candidate.php?candidate_id=20'],\n",
       " ['Gowru Charitha Reddy',\n",
       "  'https://myneta.info/AndhraPradesh2024/candidate.php?candidate_id=60'],\n",
       " ['Yeluri Sambasiva Rao',\n",
       "  'https://myneta.info/AndhraPradesh2024/candidate.php?candidate_id=373'],\n",
       " ['Bonela Vijaya Chandra',\n",
       "  'https://myneta.info/AndhraPradesh2024/candidate.php?candidate_id=137'],\n",
       " ['Mamidi Govinda Rao',\n",
       "  'https://myneta.info/AndhraPradesh2024/candidate.php?candidate_id=133'],\n",
       " ['K.E. Shyam Kumar',\n",
       "  'https://myneta.info/AndhraPradesh2024/candidate.php?candidate_id=126'],\n",
       " ['Anitha Vangalapudi',\n",
       "  'https://myneta.info/AndhraPradesh2024/candidate.php?candidate_id=388'],\n",
       " ['Bhashyam Praveen',\n",
       "  'https://myneta.info/AndhraPradesh2024/candidate.php?candidate_id=462'],\n",
       " ['Kagitha Krishnaprasad',\n",
       "  'https://myneta.info/AndhraPradesh2024/candidate.php?candidate_id=351'],\n",
       " ['China Rajappa Nimmakayala',\n",
       "  'https://myneta.info/AndhraPradesh2024/candidate.php?candidate_id=269'],\n",
       " ['Bode Prasad',\n",
       "  'https://myneta.info/AndhraPradesh2024/candidate.php?candidate_id=348'],\n",
       " ['Panchakarla Ramesh Babu',\n",
       "  'https://myneta.info/AndhraPradesh2024/candidate.php?candidate_id=2080'],\n",
       " ['S. Savitha',\n",
       "  'https://myneta.info/AndhraPradesh2024/candidate.php?candidate_id=84'],\n",
       " ['Nallari Kishan Kumar Reddy',\n",
       "  'https://myneta.info/AndhraPradesh2024/candidate.php?candidate_id=160'],\n",
       " ['Konidala Pawan Kalyan',\n",
       "  'https://myneta.info/AndhraPradesh2024/candidate.php?candidate_id=272'],\n",
       " ['Chirri Balaraju',\n",
       "  'https://myneta.info/AndhraPradesh2024/candidate.php?candidate_id=399'],\n",
       " ['Dhulipalla Narendra Kumar',\n",
       "  'https://myneta.info/AndhraPradesh2024/candidate.php?candidate_id=463'],\n",
       " ['Varupula Satya Prabha',\n",
       "  'https://myneta.info/AndhraPradesh2024/candidate.php?candidate_id=464'],\n",
       " ['Burla Ramanjaneyulu',\n",
       "  'https://myneta.info/AndhraPradesh2024/candidate.php?candidate_id=925'],\n",
       " ['Nandyala Varadarajula Reddy',\n",
       "  'https://myneta.info/AndhraPradesh2024/candidate.php?candidate_id=76'],\n",
       " ['Ys Jagan Mohan Reddy',\n",
       "  'https://myneta.info/AndhraPradesh2024/candidate.php?candidate_id=178'],\n",
       " ['Peddireddi Ramachandra Reddy',\n",
       "  'https://myneta.info/AndhraPradesh2024/candidate.php?candidate_id=440'],\n",
       " ['K Murali Mohan',\n",
       "  'https://myneta.info/AndhraPradesh2024/candidate.php?candidate_id=119'],\n",
       " ['Adireddy Srinivas',\n",
       "  'https://myneta.info/AndhraPradesh2024/candidate.php?candidate_id=259'],\n",
       " ['Butchaiah Choudary Gorantla',\n",
       "  'https://myneta.info/AndhraPradesh2024/candidate.php?candidate_id=256'],\n",
       " ['Kondru Murali Mohan',\n",
       "  'https://myneta.info/AndhraPradesh2024/candidate.php?candidate_id=135'],\n",
       " ['Akepati Amarnath Reddy',\n",
       "  'https://myneta.info/AndhraPradesh2024/candidate.php?candidate_id=21'],\n",
       " ['Bathula Balaramakrishna S/O Gangarao',\n",
       "  'https://myneta.info/AndhraPradesh2024/candidate.php?candidate_id=260'],\n",
       " ['Vasamsetti Subash',\n",
       "  'https://myneta.info/AndhraPradesh2024/candidate.php?candidate_id=267'],\n",
       " ['Miriyala Sirisha Devi',\n",
       "  'https://myneta.info/AndhraPradesh2024/candidate.php?candidate_id=276'],\n",
       " ['Paritala Sunithamma',\n",
       "  'https://myneta.info/AndhraPradesh2024/candidate.php?candidate_id=248'],\n",
       " ['Mandipalli Ramprasad Reddy',\n",
       "  'https://myneta.info/AndhraPradesh2024/candidate.php?candidate_id=87'],\n",
       " ['Kalava Srinivasulu',\n",
       "  'https://myneta.info/AndhraPradesh2024/candidate.php?candidate_id=242'],\n",
       " ['Deva Varaprasad',\n",
       "  'https://myneta.info/AndhraPradesh2024/candidate.php?candidate_id=264'],\n",
       " ['Anagani Satya Prasad',\n",
       "  'https://myneta.info/AndhraPradesh2024/candidate.php?candidate_id=465'],\n",
       " ['Gummidi Sandhyarani',\n",
       "  'https://myneta.info/AndhraPradesh2024/candidate.php?candidate_id=138'],\n",
       " ['Vijay Kumar Bn',\n",
       "  'https://myneta.info/AndhraPradesh2024/candidate.php?candidate_id=466'],\n",
       " ['Chandra Mohan Reddy Somireddy',\n",
       "  'https://myneta.info/AndhraPradesh2024/candidate.php?candidate_id=361'],\n",
       " ['Kanna Lakshminarayana',\n",
       "  'https://myneta.info/AndhraPradesh2024/candidate.php?candidate_id=283'],\n",
       " ['Koneti Adimulam',\n",
       "  'https://myneta.info/AndhraPradesh2024/candidate.php?candidate_id=444'],\n",
       " ['Bandaru Sravani Sree',\n",
       "  'https://myneta.info/AndhraPradesh2024/candidate.php?candidate_id=35'],\n",
       " ['Gondu Shankar',\n",
       "  'https://myneta.info/AndhraPradesh2024/candidate.php?candidate_id=381'],\n",
       " ['Venkata Sudhir Reddy Bojjala',\n",
       "  'https://myneta.info/AndhraPradesh2024/candidate.php?candidate_id=122'],\n",
       " ['Budda Rajasekhara Reddy',\n",
       "  'https://myneta.info/AndhraPradesh2024/candidate.php?candidate_id=24'],\n",
       " ['Kolla Lalitha Kumari',\n",
       "  'https://myneta.info/AndhraPradesh2024/candidate.php?candidate_id=467'],\n",
       " ['Nelavala Vijayasree',\n",
       "  'https://myneta.info/AndhraPradesh2024/candidate.php?candidate_id=235'],\n",
       " ['Bolisetty Srinivas',\n",
       "  'https://myneta.info/AndhraPradesh2024/candidate.php?candidate_id=409'],\n",
       " ['Tenali Sravan Kumar',\n",
       "  'https://myneta.info/AndhraPradesh2024/candidate.php?candidate_id=61'],\n",
       " ['J.C.Ashmit Reddy',\n",
       "  'https://myneta.info/AndhraPradesh2024/candidate.php?candidate_id=58'],\n",
       " ['Arimilli Radha Krishna',\n",
       "  'https://myneta.info/AndhraPradesh2024/candidate.php?candidate_id=2566'],\n",
       " ['Atchannaidu Kinjarapu',\n",
       "  'https://myneta.info/AndhraPradesh2024/candidate.php?candidate_id=384'],\n",
       " ['Nadendla Manohar',\n",
       "  'https://myneta.info/AndhraPradesh2024/candidate.php?candidate_id=802'],\n",
       " ['Peddireddy Dwarakanatha Reddy',\n",
       "  'https://myneta.info/AndhraPradesh2024/candidate.php?candidate_id=44'],\n",
       " ['Aranii Srenevasulu',\n",
       "  'https://myneta.info/AndhraPradesh2024/candidate.php?candidate_id=449'],\n",
       " ['Kolikapudi Srinivasa Rao',\n",
       "  'https://myneta.info/AndhraPradesh2024/candidate.php?candidate_id=342'],\n",
       " ['Divya Yanamala',\n",
       "  'https://myneta.info/AndhraPradesh2024/candidate.php?candidate_id=254'],\n",
       " ['Kakarla Suresh',\n",
       "  'https://myneta.info/AndhraPradesh2024/candidate.php?candidate_id=241'],\n",
       " ['Kanumuru Raghu Rama Krishna Raju (R R R)',\n",
       "  'https://myneta.info/AndhraPradesh2024/candidate.php?candidate_id=468'],\n",
       " ['Dharmaraju Patsamatla',\n",
       "  'https://myneta.info/AndhraPradesh2024/candidate.php?candidate_id=402'],\n",
       " ['Payyavula Keshav',\n",
       "  'https://myneta.info/AndhraPradesh2024/candidate.php?candidate_id=14'],\n",
       " ['Ananda Babu Nakka',\n",
       "  'https://myneta.info/AndhraPradesh2024/candidate.php?candidate_id=296'],\n",
       " ['Kurugondla Ramakrishna',\n",
       "  'https://myneta.info/AndhraPradesh2024/candidate.php?candidate_id=2365'],\n",
       " ['Bonda Umamaheswara Rao',\n",
       "  'https://myneta.info/AndhraPradesh2024/candidate.php?candidate_id=116'],\n",
       " ['Gadde Rama Mohan',\n",
       "  'https://myneta.info/AndhraPradesh2024/candidate.php?candidate_id=88'],\n",
       " ['Yalamanchili Satyanarayana Chowdary (Sujana Chowdary)',\n",
       "  'https://myneta.info/AndhraPradesh2024/candidate.php?candidate_id=15'],\n",
       " ['Gonuguntla Venkata Siva Sita Rama Anzanneyllu',\n",
       "  'https://myneta.info/AndhraPradesh2024/candidate.php?candidate_id=64'],\n",
       " ['Velagapudi Ramakrishna Babu',\n",
       "  'https://myneta.info/AndhraPradesh2024/candidate.php?candidate_id=114'],\n",
       " ['Penmetsa Vishnu Kumar Raju',\n",
       "  'https://myneta.info/AndhraPradesh2024/candidate.php?candidate_id=2684'],\n",
       " ['Ch.Vamsi Krishna Srinivas',\n",
       "  'https://myneta.info/AndhraPradesh2024/candidate.php?candidate_id=2262'],\n",
       " ['P.G.V.R.Naidu(Ganababu)',\n",
       "  'https://myneta.info/AndhraPradesh2024/candidate.php?candidate_id=469'],\n",
       " ['Aditi Vijayalakshmi Gajapathi Raju Pusapati',\n",
       "  'https://myneta.info/AndhraPradesh2024/candidate.php?candidate_id=470'],\n",
       " ['Sundarapu Vijay Kumar',\n",
       "  'https://myneta.info/AndhraPradesh2024/candidate.php?candidate_id=211'],\n",
       " ['B. Jayanageswara Reddy',\n",
       "  'https://myneta.info/AndhraPradesh2024/candidate.php?candidate_id=163'],\n",
       " ['Chandra Sekhar Tatiparthi',\n",
       "  'https://myneta.info/AndhraPradesh2024/candidate.php?candidate_id=162']]"
      ]
     },
     "execution_count": 54,
     "metadata": {},
     "output_type": "execute_result"
    }
   ],
   "source": [
    "links"
   ]
  }
 ],
 "metadata": {
  "kernelspec": {
   "display_name": "myneta_scraper",
   "language": "python",
   "name": "python3"
  },
  "language_info": {
   "codemirror_mode": {
    "name": "ipython",
    "version": 3
   },
   "file_extension": ".py",
   "mimetype": "text/x-python",
   "name": "python",
   "nbconvert_exporter": "python",
   "pygments_lexer": "ipython3",
   "version": "3.11.11"
  }
 },
 "nbformat": 4,
 "nbformat_minor": 2
}
